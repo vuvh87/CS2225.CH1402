{
  "nbformat": 4,
  "nbformat_minor": 0,
  "metadata": {
    "colab": {
      "name": "AgeDetection.ipynb",
      "provenance": [],
      "collapsed_sections": [],
      "authorship_tag": "ABX9TyMEjF77UxuKksJiIiG+isaK",
      "include_colab_link": true
    },
    "kernelspec": {
      "name": "python3",
      "display_name": "Python 3"
    },
    "accelerator": "GPU"
  },
  "cells": [
    {
      "cell_type": "markdown",
      "metadata": {
        "id": "view-in-github",
        "colab_type": "text"
      },
      "source": [
        "<a href=\"https://colab.research.google.com/github/vuvh87/CS2225.CH1402/blob/master/AgeDetection.ipynb\" target=\"_parent\"><img src=\"https://colab.research.google.com/assets/colab-badge.svg\" alt=\"Open In Colab\"/></a>"
      ]
    },
    {
      "cell_type": "code",
      "metadata": {
        "id": "83GInmvoIkW1"
      },
      "source": [
        "!pip install gdown\n",
        "\n",
        "!pwd\n",
        "!mkdir opencv-age-detection\n",
        "!mkdir opencv-age-detection/face_detector\n",
        "!mkdir opencv-age-detection/age_detector\n",
        "\n",
        "import gdown \n",
        "# deploy.prototxt\n",
        "url = \"https://drive.google.com/uc?id=1LzKm15hg_7tJwKhfG9-xC7w2-1PQqR0-\" \n",
        "dest = \"opencv-age-detection/face_detector/deploy.prototxt\"\n",
        "gdown.download(url, dest, quiet=False) \n",
        "\n",
        "url = \"https://drive.google.com/uc?id=1BQERdF1VT3K_SodTNtmqXpNEm9sybXx6\"\n",
        "dest = \"opencv-age-detection/face_detector/res10_300x300_ssd_iter_140000.caffemodel\"\n",
        "gdown.download(url, dest, quiet=False) \n",
        "\n",
        "#age_deploy.prototxt\n",
        "url = \"https://drive.google.com/uc?id=1PNKZTOWG8qMoeYjUL6uATxwZjoqmbz4s\" \n",
        "dest = \"opencv-age-detection/age_detector/age_deploy.prototxt\"\n",
        "gdown.download(url, dest, quiet=False) \n",
        "\n",
        "url = \"https://drive.google.com/uc?id=1M4_8h3m7NaLIOn9qhMnXQCSOJtBhBpkP\" \n",
        "dest = \"opencv-age-detection/age_detector/age_net.caffemodel\"\n",
        "gdown.download(url, dest, quiet=False)\n"
      ],
      "execution_count": null,
      "outputs": []
    },
    {
      "cell_type": "code",
      "metadata": {
        "id": "-GPgAL97nv9i"
      },
      "source": [
        "# import packages\n",
        "import numpy as np\n",
        "import cv2\n",
        "import os\n",
        "\n",
        "from google.colab.patches import cv2_imshow"
      ],
      "execution_count": null,
      "outputs": []
    },
    {
      "cell_type": "code",
      "metadata": {
        "id": "k9s3e_IPtpND"
      },
      "source": [
        "from IPython.display import display, Javascript\n",
        "from google.colab.output import eval_js\n",
        "from base64 import b64decode\n",
        "\n",
        "def take_photo(filename='photo.jpg', quality=0.8):\n",
        "  js = Javascript('''\n",
        "    async function takePhoto(quality) {\n",
        "      const div = document.createElement('div');\n",
        "      const capture = document.createElement('button');\n",
        "      capture.textContent = 'Capture';\n",
        "      div.appendChild(capture);\n",
        "\n",
        "      const video = document.createElement('video');\n",
        "      video.style.display = 'block';\n",
        "      const stream = await navigator.mediaDevices.getUserMedia({video: true});\n",
        "\n",
        "      document.body.appendChild(div);\n",
        "      div.appendChild(video);\n",
        "      video.srcObject = stream;\n",
        "      await video.play();\n",
        "\n",
        "      // Resize the output to fit the video element.\n",
        "      google.colab.output.setIframeHeight(document.documentElement.scrollHeight, true);\n",
        "\n",
        "      // Wait for Capture to be clicked.\n",
        "      await new Promise((resolve) => capture.onclick = resolve);\n",
        "\n",
        "      const canvas = document.createElement('canvas');\n",
        "      canvas.width = video.videoWidth;\n",
        "      canvas.height = video.videoHeight;\n",
        "      canvas.getContext('2d').drawImage(video, 0, 0);\n",
        "      stream.getVideoTracks()[0].stop();\n",
        "      div.remove();\n",
        "      return canvas.toDataURL('image/jpeg', quality);\n",
        "    }\n",
        "    ''')\n",
        "  display(js)\n",
        "  data = eval_js('takePhoto({})'.format(quality))\n",
        "  binary = b64decode(data.split(',')[1])\n",
        "  with open(filename, 'wb') as f:\n",
        "    f.write(binary)\n",
        "  return filename"
      ],
      "execution_count": null,
      "outputs": []
    },
    {
      "cell_type": "code",
      "metadata": {
        "id": "ASNmGuuFueAd"
      },
      "source": [
        "from IPython.display import Image\n",
        "try:\n",
        "  filename = take_photo()\n",
        "  print('Saved to {}'.format(filename))\n",
        "  \n",
        "  # Show the image which was just taken.\n",
        "  display(Image(filename))\n",
        "except Exception as err:\n",
        "  # Errors will be thrown if the user does not have a webcam or if they do not\n",
        "  # grant the page permission to access it.\n",
        "  print(str(err))"
      ],
      "execution_count": null,
      "outputs": []
    },
    {
      "cell_type": "code",
      "metadata": {
        "id": "9mULhZxsulrV"
      },
      "source": [
        "image = cv2.imread('/content/photo.jpg')\n",
        "cv2_imshow(image)"
      ],
      "execution_count": null,
      "outputs": []
    },
    {
      "cell_type": "code",
      "metadata": {
        "id": "8Eh4dwVe2JBF"
      },
      "source": [
        "# load our serialized face detector model from disk\n",
        "print(\"[INFO] loading face detector model...\")\n",
        "prototxtPath = os.path.sep.join(['/content/opencv-age-detection/face_detector', \"deploy.prototxt\"])\n",
        "weightsPath = os.path.sep.join(['/content/opencv-age-detection/face_detector', \"res10_300x300_ssd_iter_140000.caffemodel\"])\n",
        "faceNet = cv2.dnn.readNet(prototxtPath, weightsPath)\n",
        "\n",
        "# load our serialized age detector model from disk\n",
        "print(\"[INFO] loading age detector model...\")\n",
        "prototxtPath = os.path.sep.join(['/content/opencv-age-detection/age_detector', \"age_deploy.prototxt\"])\n",
        "weightsPath = os.path.sep.join(['/content/opencv-age-detection/age_detector', \"age_net.caffemodel\"])\n",
        "ageNet = cv2.dnn.readNet(prototxtPath, weightsPath)"
      ],
      "execution_count": null,
      "outputs": []
    },
    {
      "cell_type": "code",
      "metadata": {
        "id": "yvrc9Yc250SR"
      },
      "source": [
        "# load the input image and construct an input blob for the image\n",
        "(h, w) = image.shape[:2]\n",
        "blob = cv2.dnn.blobFromImage(image, 1.0, (300, 300),\n",
        "\t(104.0, 177.0, 123.0))"
      ],
      "execution_count": null,
      "outputs": []
    },
    {
      "cell_type": "code",
      "metadata": {
        "id": "8gSxBoSk6IGd"
      },
      "source": [
        "# define the list of age buckets our age detector will predict\n",
        "AGE_BUCKETS = [\"(0-2)\", \"(4-6)\", \"(8-12)\", \"(15-20)\", \"(25-32)\",\n",
        "\t\"(38-43)\", \"(48-53)\", \"(60-100)\"]"
      ],
      "execution_count": null,
      "outputs": []
    },
    {
      "cell_type": "code",
      "metadata": {
        "id": "LOzyz0oW55iX"
      },
      "source": [
        "# pass the blob through the network and obtain the face detections\n",
        "print(\"[INFO] computing face detections...\")\n",
        "faceNet.setInput(blob)\n",
        "detections = faceNet.forward()\n",
        "args_conf = 0.5\n",
        "\n",
        "# loop over the detections\n",
        "for i in range(0, detections.shape[2]):\n",
        "\t# extract the confidence (i.e., probability) associated with the\n",
        "\t# prediction\n",
        "\tconfidence = detections[0, 0, i, 2]\n",
        "\n",
        "\t# filter out weak detections by ensuring the confidence is\n",
        "\t# greater than the minimum confidence\n",
        "\tif confidence > args_conf:\n",
        "\t\t# compute the (x, y)-coordinates of the bounding box for the\n",
        "\t\t# object\n",
        "\t\tbox = detections[0, 0, i, 3:7] * np.array([w, h, w, h])\n",
        "\t\t(startX, startY, endX, endY) = box.astype(\"int\")\n",
        "\n",
        "\t\t# extract the ROI of the face and then construct a blob from\n",
        "\t\t# *only* the face ROI\n",
        "\t\tface = image[startY:endY, startX:endX]\n",
        "\t\tfaceBlob = cv2.dnn.blobFromImage(face, 1.0, (227, 227),\n",
        "\t\t\t(78.4263377603, 87.7689143744, 114.895847746),\n",
        "\t\t\tswapRB=False)\n",
        "\n",
        "\t\t# make predictions on the age and find the age bucket with\n",
        "\t\t# the largest corresponding probability\n",
        "\t\tageNet.setInput(faceBlob)\n",
        "\t\tpreds = ageNet.forward()\n",
        "\t\ti = preds[0].argmax()\n",
        "\t\tage = AGE_BUCKETS[i]\n",
        "\t\tageConfidence = preds[0][i]\n",
        "\n",
        "\t\t# display the predicted age to our terminal\n",
        "\t\ttext = \"{}: {:.2f}%\".format(age, ageConfidence * 100)\n",
        "\t\tprint(\"[INFO] {}\".format(text))\n",
        "\n",
        "\t\t# draw the bounding box of the face along with the associated\n",
        "\t\t# predicted age\n",
        "\t\ty = startY - 10 if startY - 10 > 10 else startY + 10\n",
        "\t\tcv2.rectangle(image, (startX, startY), (endX, endY),\n",
        "\t\t\t(0, 0, 255), 2)\n",
        "\t\tcv2.putText(image, text, (startX, y),\n",
        "\t\t\tcv2.FONT_HERSHEY_SIMPLEX, 0.45, (0, 0, 255), 2)"
      ],
      "execution_count": null,
      "outputs": []
    },
    {
      "cell_type": "code",
      "metadata": {
        "id": "8AGuYnlb6Mk_"
      },
      "source": [
        "# display the output image\n",
        "cv2_imshow(image)"
      ],
      "execution_count": null,
      "outputs": []
    }
  ]
}